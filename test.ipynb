{
 "cells": [
  {
   "cell_type": "code",
   "execution_count": 2,
   "metadata": {},
   "outputs": [
    {
     "name": "stdout",
     "output_type": "stream",
     "text": [
      "Starting to load the model meta-llama/Llama-2-13b-hf into memory\n"
     ]
    },
    {
     "data": {
      "application/vnd.jupyter.widget-view+json": {
       "model_id": "541d5437f62f4f368e787c5e4372065a",
       "version_major": 2,
       "version_minor": 0
      },
      "text/plain": [
       "Loading checkpoint shards:   0%|          | 0/3 [00:00<?, ?it/s]"
      ]
     },
     "metadata": {},
     "output_type": "display_data"
    }
   ],
   "source": [
    "import os\n",
    "from dataclasses import dataclass, field\n",
    "from typing import Dict, Optional\n",
    "import pickle\n",
    "\n",
    "import torch\n",
    "from datasets import Dataset, load_dataset\n",
    "from peft import AutoPeftModelForCausalLM, LoraConfig\n",
    "from transformers import AutoTokenizer, HfArgumentParser, TrainingArguments, AutoModelForCausalLM\n",
    "from transformers import pipeline\n",
    "import pickle\n",
    "\n",
    "\n",
    "\n",
    "\n",
    "\n",
    "# print(prompt)\n",
    "\n",
    "\n",
    "import torch\n",
    "from peft import PeftModel    \n",
    "from transformers import AutoModelForCausalLM, AutoTokenizer, LlamaTokenizer, StoppingCriteria, StoppingCriteriaList, TextIteratorStreamer\n",
    "\n",
    "model_name = \"meta-llama/Llama-2-13b-hf\"\n",
    "adapters_name = \"/app/azureuser/trl/results/checkpoint-900\"\n",
    "\n",
    "print(f\"Starting to load the model {model_name} into memory\")\n",
    "\n",
    "m = AutoModelForCausalLM.from_pretrained(\n",
    "    model_name,\n",
    "    # load_in_4bit=True,\n",
    "    torch_dtype=torch.bfloat16,\n",
    "    device_map={\"\": 0}\n",
    ")\n",
    "m = PeftModel.from_pretrained(m, adapters_name)\n",
    "m = m.merge_and_unload()\n",
    "tokenizer = AutoTokenizer.from_pretrained(model_name)\n",
    "tokenizer.bos_token_id = 1\n",
    "tokenizer.eos_token_id = 3\n",
    "stop_token_ids = [0]"
   ]
  },
  {
   "cell_type": "code",
   "execution_count": 3,
   "metadata": {},
   "outputs": [
    {
     "name": "stdout",
     "output_type": "stream",
     "text": [
      "{'input_ids': tensor([[    1, 29871,    13,  ..., 29896, 29900, 29900]]), 'attention_mask': tensor([[1, 1, 1,  ..., 1, 1, 1]])}\n"
     ]
    },
    {
     "ename": "AttributeError",
     "evalue": "'SampleDecoderOnlyOutput' object has no attribute 'detach'",
     "output_type": "error",
     "traceback": [
      "\u001b[0;31m---------------------------------------------------------------------------\u001b[0m",
      "\u001b[0;31mAttributeError\u001b[0m                            Traceback (most recent call last)",
      "Cell \u001b[0;32mIn[3], line 24\u001b[0m\n\u001b[1;32m     19\u001b[0m inputs \u001b[39m=\u001b[39m {k: v\u001b[39m.\u001b[39mto(device) \u001b[39mfor\u001b[39;00m k, v \u001b[39min\u001b[39;00m inputs\u001b[39m.\u001b[39mitems()}\n\u001b[1;32m     20\u001b[0m outputs \u001b[39m=\u001b[39m m\u001b[39m.\u001b[39mgenerate(\n\u001b[1;32m     21\u001b[0m     input_ids\u001b[39m=\u001b[39minputs[\u001b[39m\"\u001b[39m\u001b[39minput_ids\u001b[39m\u001b[39m\"\u001b[39m], attention_mask\u001b[39m=\u001b[39minputs[\u001b[39m\"\u001b[39m\u001b[39mattention_mask\u001b[39m\u001b[39m\"\u001b[39m], max_new_tokens\u001b[39m=\u001b[39m\u001b[39m3\u001b[39m, eos_token_id\u001b[39m=\u001b[39m\u001b[39m3\u001b[39m, bos_token_id\u001b[39m=\u001b[39m\u001b[39m1\u001b[39m,\n\u001b[1;32m     22\u001b[0m     return_dict_in_generate\u001b[39m=\u001b[39m\u001b[39mTrue\u001b[39;00m, output_scores\u001b[39m=\u001b[39m\u001b[39mTrue\u001b[39;00m)\n\u001b[0;32m---> 24\u001b[0m \u001b[39mprint\u001b[39m(tokenizer\u001b[39m.\u001b[39mbatch_decode(outputs\u001b[39m.\u001b[39;49mdetach()\u001b[39m.\u001b[39mcpu()\u001b[39m.\u001b[39mnumpy(), skip_special_tokens\u001b[39m=\u001b[39m\u001b[39mTrue\u001b[39;00m))\n\u001b[1;32m     25\u001b[0m \u001b[39m# generated_sequences = outputs.sequences[:, inputs[\"input_ids\"].shape[-1]:]\u001b[39;00m\n\u001b[1;32m     26\u001b[0m \u001b[39m# probabilities = torch.stack(outputs.scores, dim=1).softmax(-1)\u001b[39;00m\n\u001b[1;32m     27\u001b[0m \u001b[39m# texts_probabilities = torch.gather(probabilities, 2, generated_sequences[:, :, None]).squeeze(-1)\u001b[39;00m\n\u001b[1;32m     28\u001b[0m \u001b[39m# _scores = texts_probabilities.prod(-1)\u001b[39;00m\n",
      "\u001b[0;31mAttributeError\u001b[0m: 'SampleDecoderOnlyOutput' object has no attribute 'detach'"
     ]
    }
   ],
   "source": [
    "data_dir = \"demo_pairs/demo_99.pkl\"\n",
    "with open(data_dir, \"rb\") as f:\n",
    "    data_dict = pickle.load(f)\n",
    "    total_samples = len(data_dict[\"prompt\"])\n",
    "    \n",
    "prompt = data_dict[\"prompt\"][200]\n",
    "\n",
    "inputs = tokenizer(\n",
    "    prompt,\n",
    "    return_tensors=\"pt\",\n",
    ")\n",
    "\n",
    "device = torch.device(\"cuda:0\")\n",
    "m = m.to(device)\n",
    "\n",
    "print(inputs)\n",
    "\n",
    "with torch.no_grad():\n",
    "    inputs = {k: v.to(device) for k, v in inputs.items()}\n",
    "    outputs = m.generate(\n",
    "        input_ids=inputs[\"input_ids\"], attention_mask=inputs[\"attention_mask\"], max_new_tokens=3, eos_token_id=3, bos_token_id=1,\n",
    "        return_dict_in_generate=True, output_scores=True)\n",
    "    \n",
    "    print(tokenizer.batch_decode(outputs.detach().cpu().numpy(), skip_special_tokens=True))\n",
    "    # generated_sequences = outputs.sequences[:, inputs[\"input_ids\"].shape[-1]:]\n",
    "    # probabilities = torch.stack(outputs.scores, dim=1).softmax(-1)\n",
    "    # texts_probabilities = torch.gather(probabilities, 2, generated_sequences[:, :, None]).squeeze(-1)\n",
    "    # _scores = texts_probabilities.prod(-1)\n"
   ]
  },
  {
   "cell_type": "code",
   "execution_count": null,
   "metadata": {},
   "outputs": [
    {
     "data": {
      "text/plain": [
       "tensor([1.], device='cuda:0')"
      ]
     },
     "execution_count": 11,
     "metadata": {},
     "output_type": "execute_result"
    }
   ],
   "source": [
    "_scores"
   ]
  }
 ],
 "metadata": {
  "kernelspec": {
   "display_name": "trl",
   "language": "python",
   "name": "python3"
  },
  "language_info": {
   "codemirror_mode": {
    "name": "ipython",
    "version": 3
   },
   "file_extension": ".py",
   "mimetype": "text/x-python",
   "name": "python",
   "nbconvert_exporter": "python",
   "pygments_lexer": "ipython3",
   "version": "3.10.12"
  },
  "orig_nbformat": 4
 },
 "nbformat": 4,
 "nbformat_minor": 2
}
